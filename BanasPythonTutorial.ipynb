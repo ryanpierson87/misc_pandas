{
 "cells": [
  {
   "cell_type": "markdown",
   "metadata": {},
   "source": [
    "<h2 align=center><font color=purple>Lesson 12- Lambda Filter Reduce </h2>"
   ]
  },
  {
   "cell_type": "code",
   "execution_count": 26,
   "metadata": {},
   "outputs": [
    {
     "name": "stdout",
     "output_type": "stream",
     "text": [
      "5 * 10 = 50\n"
     ]
    }
   ],
   "source": [
    "def get_func_mult_by_num(num):\n",
    "    \n",
    "    def mult_by(value):\n",
    "        return num * value\n",
    "    return mult_by\n",
    "\n",
    "generated_func = get_func_mult_by_num(5)\n",
    "\n",
    "print(\"5 * 10 =\", generated_func(10))"
   ]
  },
  {
   "cell_type": "code",
   "execution_count": 25,
   "metadata": {},
   "outputs": [
    {
     "name": "stdout",
     "output_type": "stream",
     "text": [
      "4 * 2= 8\n"
     ]
    }
   ],
   "source": [
    "def mult_by_2(num):\n",
    "    return num * 2\n",
    "\n",
    "times_two = mult_by_2\n",
    "\n",
    "print('4 * 2=', times_two(4))"
   ]
  },
  {
   "cell_type": "code",
   "execution_count": 24,
   "metadata": {},
   "outputs": [
    {
     "name": "stdout",
     "output_type": "stream",
     "text": [
      "5 * 10 = 50\n"
     ]
    }
   ],
   "source": [
    "def get_func_mult_by_num(num):\n",
    "    def mult_by(value):\n",
    "        return num * value\n",
    "    \n",
    "    return mult_by\n",
    "generated_func = get_func_mult_by_num(5)\n",
    "\n",
    "print(\"5 * 10 =\", generated_func(10))"
   ]
  },
  {
   "cell_type": "code",
   "execution_count": 27,
   "metadata": {},
   "outputs": [],
   "source": [
    "list_of_func = [times_two, generated_func]"
   ]
  },
  {
   "cell_type": "code",
   "execution_count": 29,
   "metadata": {},
   "outputs": [
    {
     "name": "stdout",
     "output_type": "stream",
     "text": [
      "5 * 9 =  45\n"
     ]
    }
   ],
   "source": [
    "print('5 * 9 = ', list_of_func[1](9))"
   ]
  },
  {
   "cell_type": "code",
   "execution_count": 30,
   "metadata": {},
   "outputs": [],
   "source": [
    "powerList = [lambda x : x ** 2,\n",
    "            lambda x : x ** 3,\n",
    "            lambda x : x ** 4,]"
   ]
  },
  {
   "cell_type": "code",
   "execution_count": 32,
   "metadata": {},
   "outputs": [
    {
     "name": "stdout",
     "output_type": "stream",
     "text": [
      "16\n",
      "64\n",
      "256\n"
     ]
    }
   ],
   "source": [
    "for func in powerList:\n",
    "    print(func(4))"
   ]
  },
  {
   "cell_type": "code",
   "execution_count": 35,
   "metadata": {},
   "outputs": [
    {
     "name": "stdout",
     "output_type": "stream",
     "text": [
      "Quick Attack\n"
     ]
    }
   ],
   "source": [
    "attack = {'quick': lambda: print('Quick Attack'),\n",
    "         'power': lambda: print('Power Attack'),\n",
    "         'miss': lambda: print('Missed Attack')}\n",
    "\n",
    "attack['quick']()"
   ]
  },
  {
   "cell_type": "code",
   "execution_count": 36,
   "metadata": {},
   "outputs": [
    {
     "name": "stdout",
     "output_type": "stream",
     "text": [
      "Power Attack\n"
     ]
    }
   ],
   "source": [
    "import random\n",
    "\n",
    "attackKey = random.choice(list(attack.keys()))\n",
    "\n",
    "attack[attackKey]()"
   ]
  },
  {
   "cell_type": "code",
   "execution_count": 49,
   "metadata": {},
   "outputs": [
    {
     "name": "stdout",
     "output_type": "stream",
     "text": [
      "Quick Attack\n"
     ]
    }
   ],
   "source": [
    "attackKey = random.choice(list(attack.keys()))\n",
    "\n",
    "attack[attackKey]()"
   ]
  },
  {
   "cell_type": "code",
   "execution_count": 50,
   "metadata": {},
   "outputs": [],
   "source": [
    "####"
   ]
  },
  {
   "cell_type": "code",
   "execution_count": 51,
   "metadata": {},
   "outputs": [
    {
     "name": "stdout",
     "output_type": "stream",
     "text": [
      "[2, 4, 6, 8, 10, 12, 14, 16, 18, 20]\n"
     ]
    }
   ],
   "source": [
    "oneTo10 = range(1, 11)\n",
    "\n",
    "def dbl_num(num):\n",
    "    return num * 2\n",
    "\n",
    "print(list(map(dbl_num, oneTo10)))"
   ]
  },
  {
   "cell_type": "code",
   "execution_count": 54,
   "metadata": {},
   "outputs": [
    {
     "name": "stdout",
     "output_type": "stream",
     "text": [
      "[3, 6, 9, 12, 15, 18, 21, 24, 27, 30]\n"
     ]
    }
   ],
   "source": [
    "#map lets you execute an operation on each item on a list\n",
    "\n",
    "print(list(map((lambda x: x * 3), oneTo10)))"
   ]
  },
  {
   "cell_type": "code",
   "execution_count": 55,
   "metadata": {},
   "outputs": [
    {
     "name": "stdout",
     "output_type": "stream",
     "text": [
      "[5, 7, 9]\n"
     ]
    }
   ],
   "source": [
    "aList = list(map((lambda x, y: x + y), [1, 2, 3], [4, 5, 6]))\n",
    "\n",
    "print(aList)"
   ]
  },
  {
   "cell_type": "code",
   "execution_count": 56,
   "metadata": {},
   "outputs": [],
   "source": [
    "#filter"
   ]
  },
  {
   "cell_type": "code",
   "execution_count": 58,
   "metadata": {},
   "outputs": [
    {
     "name": "stdout",
     "output_type": "stream",
     "text": [
      "[2, 4, 6, 8, 10]\n"
     ]
    }
   ],
   "source": [
    "print(list(filter((lambda x: x % 2 == 0), range(1, 11))))"
   ]
  },
  {
   "cell_type": "code",
   "execution_count": 88,
   "metadata": {},
   "outputs": [
    {
     "name": "stdout",
     "output_type": "stream",
     "text": [
      "[747, 45, 702, 36, 468, 297, 63, 333, 459]\n"
     ]
    }
   ],
   "source": [
    "val_list = list(map(lambda x:random.randrange(1, 1000), range(1, 100)))\n",
    "print(list(filter((lambda x: x % 9 == 0), val_list)))"
   ]
  },
  {
   "cell_type": "code",
   "execution_count": 75,
   "metadata": {},
   "outputs": [
    {
     "ename": "TypeError",
     "evalue": "'int' object is not callable",
     "output_type": "error",
     "traceback": [
      "\u001b[1;31m---------------------------------------------------------------------------\u001b[0m",
      "\u001b[1;31mTypeError\u001b[0m                                 Traceback (most recent call last)",
      "\u001b[1;32m<ipython-input-75-a628b0358f03>\u001b[0m in \u001b[0;36m<module>\u001b[1;34m()\u001b[0m\n\u001b[1;32m----> 1\u001b[1;33m \u001b[0mval_list\u001b[0m \u001b[1;33m=\u001b[0m \u001b[0mlist\u001b[0m\u001b[1;33m(\u001b[0m\u001b[0mmap\u001b[0m\u001b[1;33m(\u001b[0m\u001b[0mrandom\u001b[0m\u001b[1;33m.\u001b[0m\u001b[0mrandrange\u001b[0m\u001b[1;33m(\u001b[0m\u001b[1;36m1\u001b[0m\u001b[1;33m,\u001b[0m \u001b[1;36m1000\u001b[0m\u001b[1;33m)\u001b[0m\u001b[1;33m,\u001b[0m \u001b[0mrange\u001b[0m\u001b[1;33m(\u001b[0m\u001b[1;36m1\u001b[0m\u001b[1;33m,\u001b[0m \u001b[1;36m100\u001b[0m\u001b[1;33m)\u001b[0m\u001b[1;33m)\u001b[0m\u001b[1;33m)\u001b[0m\u001b[1;33m\u001b[0m\u001b[0m\n\u001b[0m\u001b[0;32m      2\u001b[0m \u001b[0mprint\u001b[0m\u001b[1;33m(\u001b[0m\u001b[0mval_list\u001b[0m\u001b[1;33m)\u001b[0m\u001b[1;33m\u001b[0m\u001b[0m\n",
      "\u001b[1;31mTypeError\u001b[0m: 'int' object is not callable"
     ]
    }
   ],
   "source": [
    "val_list = list(map(random.randrange(1, 1000), range(1, 100)))\n",
    "print(val_list)"
   ]
  },
  {
   "cell_type": "code",
   "execution_count": 82,
   "metadata": {},
   "outputs": [],
   "source": [
    "val_list = list(map(lambda x:random.randrange(1, 1000), range(1, 100)))"
   ]
  },
  {
   "cell_type": "code",
   "execution_count": 83,
   "metadata": {
    "scrolled": true
   },
   "outputs": [
    {
     "data": {
      "text/plain": [
       "[327,\n",
       " 554,\n",
       " 399,\n",
       " 981,\n",
       " 96,\n",
       " 376,\n",
       " 180,\n",
       " 797,\n",
       " 595,\n",
       " 730,\n",
       " 999,\n",
       " 318,\n",
       " 224,\n",
       " 199,\n",
       " 362,\n",
       " 730,\n",
       " 478,\n",
       " 663,\n",
       " 361,\n",
       " 941,\n",
       " 978,\n",
       " 272,\n",
       " 787,\n",
       " 848,\n",
       " 201,\n",
       " 694,\n",
       " 566,\n",
       " 166,\n",
       " 121,\n",
       " 962,\n",
       " 176,\n",
       " 706,\n",
       " 959,\n",
       " 320,\n",
       " 937,\n",
       " 523,\n",
       " 16,\n",
       " 133,\n",
       " 137,\n",
       " 828,\n",
       " 938,\n",
       " 872,\n",
       " 998,\n",
       " 883,\n",
       " 599,\n",
       " 602,\n",
       " 71,\n",
       " 21,\n",
       " 302,\n",
       " 987,\n",
       " 856,\n",
       " 140,\n",
       " 928,\n",
       " 269,\n",
       " 874,\n",
       " 433,\n",
       " 353,\n",
       " 754,\n",
       " 70,\n",
       " 143,\n",
       " 477,\n",
       " 542,\n",
       " 56,\n",
       " 749,\n",
       " 207,\n",
       " 46,\n",
       " 770,\n",
       " 379,\n",
       " 852,\n",
       " 601,\n",
       " 995,\n",
       " 683,\n",
       " 389,\n",
       " 760,\n",
       " 893,\n",
       " 192,\n",
       " 154,\n",
       " 334,\n",
       " 519,\n",
       " 853,\n",
       " 748,\n",
       " 5,\n",
       " 995,\n",
       " 46,\n",
       " 496,\n",
       " 732,\n",
       " 956,\n",
       " 368,\n",
       " 93,\n",
       " 234,\n",
       " 241,\n",
       " 511,\n",
       " 489,\n",
       " 763,\n",
       " 801,\n",
       " 725,\n",
       " 241,\n",
       " 651,\n",
       " 659]"
      ]
     },
     "execution_count": 83,
     "metadata": {},
     "output_type": "execute_result"
    }
   ],
   "source": [
    "random.randint()"
   ]
  },
  {
   "cell_type": "code",
   "execution_count": 89,
   "metadata": {
    "collapsed": true
   },
   "outputs": [
    {
     "data": {
      "text/plain": [
       "[284,\n",
       " 573,\n",
       " 665,\n",
       " 977,\n",
       " 658,\n",
       " 497,\n",
       " 942,\n",
       " 862,\n",
       " 283,\n",
       " 355,\n",
       " 288,\n",
       " 261,\n",
       " 958,\n",
       " 777,\n",
       " 670,\n",
       " 359,\n",
       " 174,\n",
       " 913,\n",
       " 929,\n",
       " 798,\n",
       " 647,\n",
       " 711,\n",
       " 794,\n",
       " 454,\n",
       " 740,\n",
       " 217,\n",
       " 565,\n",
       " 428,\n",
       " 236,\n",
       " 383,\n",
       " 456,\n",
       " 242,\n",
       " 970,\n",
       " 406,\n",
       " 838,\n",
       " 432,\n",
       " 877,\n",
       " 253,\n",
       " 104,\n",
       " 735,\n",
       " 233,\n",
       " 762,\n",
       " 972,\n",
       " 767,\n",
       " 462,\n",
       " 146,\n",
       " 98,\n",
       " 271,\n",
       " 125,\n",
       " 499,\n",
       " 518,\n",
       " 976,\n",
       " 538,\n",
       " 787,\n",
       " 711,\n",
       " 158,\n",
       " 301,\n",
       " 860,\n",
       " 531,\n",
       " 309,\n",
       " 472,\n",
       " 374,\n",
       " 161,\n",
       " 374,\n",
       " 109,\n",
       " 826,\n",
       " 359,\n",
       " 808,\n",
       " 204,\n",
       " 962,\n",
       " 937,\n",
       " 160,\n",
       " 450,\n",
       " 287,\n",
       " 945,\n",
       " 301,\n",
       " 298,\n",
       " 922,\n",
       " 43,\n",
       " 114,\n",
       " 32,\n",
       " 956,\n",
       " 187,\n",
       " 506,\n",
       " 895,\n",
       " 337,\n",
       " 868,\n",
       " 766,\n",
       " 366,\n",
       " 867,\n",
       " 517,\n",
       " 763,\n",
       " 393,\n",
       " 360,\n",
       " 595,\n",
       " 503,\n",
       " 424,\n",
       " 677,\n",
       " 234,\n",
       " 72]"
      ]
     },
     "execution_count": 89,
     "metadata": {},
     "output_type": "execute_result"
    }
   ],
   "source": [
    "randList = list(random.randint(1, 1001) for i  in range(100))\n",
    "randList"
   ]
  },
  {
   "cell_type": "code",
   "execution_count": 90,
   "metadata": {},
   "outputs": [],
   "source": [
    "from functools import reduce"
   ]
  },
  {
   "cell_type": "code",
   "execution_count": 98,
   "metadata": {},
   "outputs": [
    {
     "name": "stdout",
     "output_type": "stream",
     "text": [
      "2388636399360109977557402041718133080829429159844757507642063199359529632522467783435119230976\n"
     ]
    }
   ],
   "source": [
    "#reduce receives a list and returns a single result\n",
    "print(reduce((lambda x, y: x ** y), range(6, 1, -1)))"
   ]
  },
  {
   "cell_type": "code",
   "execution_count": 93,
   "metadata": {},
   "outputs": [
    {
     "data": {
      "text/plain": [
       "120"
      ]
     },
     "execution_count": 93,
     "metadata": {},
     "output_type": "execute_result"
    }
   ],
   "source": [
    "1 * 2 * 3 * 4 * 5"
   ]
  },
  {
   "cell_type": "markdown",
   "metadata": {},
   "source": [
    "<h2 align=center><font color=#3333ff >Lesson 12- Lambda Filter Reduce </h2>"
   ]
  },
  {
   "cell_type": "markdown",
   "metadata": {},
   "source": [
    "iterables are an object with a method that looks like: \\__iter\\__\n",
    "<br><br>\n",
    "iterators are objects with a method that look like: \\__next\\__<br>\n",
    "\\__next\\__ retrieves the next value from a sequence of values"
   ]
  },
  {
   "cell_type": "code",
   "execution_count": 106,
   "metadata": {},
   "outputs": [
    {
     "name": "stdout",
     "output_type": "stream",
     "text": [
      "Char : S\n",
      "Char : a\n"
     ]
    }
   ],
   "source": [
    "sampStr = iter(\"Sample\")\n",
    "print(\"Char :\", next(sampStr))\n",
    "print(\"Char :\", next(sampStr))"
   ]
  },
  {
   "cell_type": "code",
   "execution_count": 107,
   "metadata": {},
   "outputs": [
    {
     "name": "stdout",
     "output_type": "stream",
     "text": [
      "A\n",
      "B\n",
      "C\n",
      "D\n",
      "E\n",
      "F\n",
      "G\n",
      "H\n",
      "I\n",
      "J\n",
      "K\n",
      "L\n",
      "M\n",
      "N\n",
      "O\n",
      "P\n",
      "Q\n",
      "R\n",
      "S\n",
      "T\n",
      "U\n",
      "V\n",
      "W\n",
      "X\n",
      "Y\n",
      "Z\n"
     ]
    }
   ],
   "source": [
    "#Customer Iterator/Custom Class\n",
    "class Alphabet:\n",
    "    def __init__(self):\n",
    "        self.letters = \"ABCDEFGHIJKLMNOPQRSTUVWXYZ\"\n",
    "        self.index = -1\n",
    "        \n",
    "    def __iter__(self):\n",
    "        return self\n",
    "    \n",
    "    def __next__(self):\n",
    "        if self.index >= len(self.letters) - 1:\n",
    "            raise StopIteration\n",
    "        self.index += 1\n",
    "        return self.letters[self.index]\n",
    "    \n",
    "alpha= Alphabet()\n",
    "\n",
    "for letter in alpha:\n",
    "    print(letter)"
   ]
  },
  {
   "cell_type": "code",
   "execution_count": 109,
   "metadata": {},
   "outputs": [
    {
     "name": "stdout",
     "output_type": "stream",
     "text": [
      "fname Derek\n",
      "lname Banas\n"
     ]
    }
   ],
   "source": [
    "derek = {'fname': \"Derek\", 'lname': 'Banas'}\n",
    "\n",
    "for key in derek:\n",
    "    print(key, derek[key])"
   ]
  },
  {
   "cell_type": "code",
   "execution_count": 110,
   "metadata": {},
   "outputs": [],
   "source": [
    "#List Comprehensions"
   ]
  },
  {
   "cell_type": "code",
   "execution_count": 111,
   "metadata": {},
   "outputs": [
    {
     "name": "stdout",
     "output_type": "stream",
     "text": [
      "[2, 4, 6, 8, 10, 12, 14, 16, 18, 20]\n"
     ]
    }
   ],
   "source": [
    "print(list(map((lambda x: x * 2), range(1, 11))))"
   ]
  },
  {
   "cell_type": "code",
   "execution_count": 119,
   "metadata": {},
   "outputs": [],
   "source": [
    "#Above is map\n",
    "#Below is List Comprehension"
   ]
  },
  {
   "cell_type": "code",
   "execution_count": 114,
   "metadata": {},
   "outputs": [
    {
     "name": "stdout",
     "output_type": "stream",
     "text": [
      "[2, 4, 6, 8, 10, 12, 14, 16, 18, 20]\n"
     ]
    }
   ],
   "source": [
    "print([2 * x for x in range(1, 11)])"
   ]
  },
  {
   "cell_type": "code",
   "execution_count": 115,
   "metadata": {},
   "outputs": [
    {
     "name": "stdout",
     "output_type": "stream",
     "text": [
      "[1, 3, 5, 7, 9]\n"
     ]
    }
   ],
   "source": [
    "print(list(filter((lambda x: x % 2 != 0), range(1,10))))"
   ]
  },
  {
   "cell_type": "code",
   "execution_count": 116,
   "metadata": {},
   "outputs": [],
   "source": [
    "#Above is map\n",
    "#Below is List Comprehension"
   ]
  },
  {
   "cell_type": "code",
   "execution_count": 118,
   "metadata": {},
   "outputs": [
    {
     "name": "stdout",
     "output_type": "stream",
     "text": [
      "[1, 3, 5, 7, 9]\n"
     ]
    }
   ],
   "source": [
    "print([x for x in range(1, 11) if x % 2 != 0])"
   ]
  },
  {
   "cell_type": "code",
   "execution_count": 121,
   "metadata": {},
   "outputs": [
    {
     "name": "stdout",
     "output_type": "stream",
     "text": [
      "[0, 64, 256, 576, 1024, 1600, 2304]\n"
     ]
    }
   ],
   "source": [
    "# Generate 50 values\n",
    "# Take to the power of 2\n",
    "# Return Multiples of 8\n",
    "\n",
    "print([i ** 2 for i in range(50) if i % 8 == 0])"
   ]
  },
  {
   "cell_type": "code",
   "execution_count": 124,
   "metadata": {},
   "outputs": [
    {
     "name": "stdout",
     "output_type": "stream",
     "text": [
      "[11, 12, 13, 14, 15, 22, 24, 26, 28, 30]\n"
     ]
    }
   ],
   "source": [
    "#multiple for loops\n",
    "print([x * y for x in range(1, 3) for y in range(11, 16)])"
   ]
  },
  {
   "cell_type": "code",
   "execution_count": 125,
   "metadata": {},
   "outputs": [],
   "source": [
    "#list comprehensions INSIDE list comprehensions"
   ]
  },
  {
   "cell_type": "code",
   "execution_count": 126,
   "metadata": {},
   "outputs": [
    {
     "name": "stdout",
     "output_type": "stream",
     "text": [
      "[0, 8, 16]\n"
     ]
    }
   ],
   "source": [
    "# Generate a list of 10 values\n",
    "# multiply them by 2\n",
    "# Return multiples of 8\n",
    "\n",
    "print([x for x in [i * 2 for i in range(10)] if x % 8 == 0])"
   ]
  },
  {
   "cell_type": "code",
   "execution_count": 127,
   "metadata": {},
   "outputs": [],
   "source": [
    "# PROBLEM\n",
    "\n",
    "# Generate a list of 50 random values between 1  and 1000\n",
    "# and return those that are multiples of 9\n",
    "# You'll have to use a list comprehension in a list comprehension\n",
    "\n"
   ]
  },
  {
   "cell_type": "code",
   "execution_count": 129,
   "metadata": {},
   "outputs": [
    {
     "name": "stdout",
     "output_type": "stream",
     "text": [
      "[2, 5, 8]\n"
     ]
    }
   ],
   "source": [
    "multiList = [[1, 2, 3], \n",
    "            [4, 5, 6],\n",
    "             [7, 8, 9]]\n",
    "#print middle column\n",
    "print([col[1] for col in multiList])"
   ]
  },
  {
   "cell_type": "code",
   "execution_count": 132,
   "metadata": {},
   "outputs": [
    {
     "name": "stdout",
     "output_type": "stream",
     "text": [
      "[1, 5, 9]\n"
     ]
    }
   ],
   "source": [
    "print([multiList[i][i] for i in range(len(multiList))])"
   ]
  },
  {
   "cell_type": "markdown",
   "metadata": {},
   "source": [
    "<h2 align=center><font color=red>Generators</h2>"
   ]
  },
  {
   "cell_type": "markdown",
   "metadata": {},
   "source": [
    "Generators - return result generator when you call it and spend or resume during exectution of your program over time instead of all at once"
   ]
  },
  {
   "cell_type": "markdown",
   "metadata": {},
   "source": [
    "We mainly use generators when we want to get a very large result set- large number of results without slowing down program"
   ]
  },
  {
   "cell_type": "code",
   "execution_count": 135,
   "metadata": {},
   "outputs": [
    {
     "name": "stdout",
     "output_type": "stream",
     "text": [
      "Prime : 2\n",
      "Prime : 3\n",
      "Prime : 5\n",
      "Prime : 7\n",
      "Prime : 11\n",
      "Prime : 13\n"
     ]
    }
   ],
   "source": [
    "def is_prime(num):\n",
    "    for i in range(2, num):\n",
    "        if num % i == 0:\n",
    "            return False\n",
    "    return True\n",
    "\n",
    "def gen_primes(max_number):\n",
    "    for num1 in range(2, max_number):\n",
    "        \n",
    "        if is_prime(num1):\n",
    "            yield num1\n",
    "            \n",
    "prime = gen_primes(50)\n",
    "\n",
    "print(\"Prime :\", next(prime))\n",
    "print(\"Prime :\", next(prime))\n",
    "print(\"Prime :\", next(prime))\n",
    "print(\"Prime :\", next(prime))\n",
    "print(\"Prime :\", next(prime))\n",
    "print(\"Prime :\", next(prime))"
   ]
  },
  {
   "cell_type": "code",
   "execution_count": 136,
   "metadata": {},
   "outputs": [
    {
     "name": "stdout",
     "output_type": "stream",
     "text": [
      "Double : 0\n",
      "Double : 2\n",
      "4\n",
      "6\n",
      "8\n",
      "10\n",
      "12\n",
      "14\n",
      "16\n",
      "18\n"
     ]
    }
   ],
   "source": [
    "#Generator expressions\n",
    "\n",
    "double = (x * 2 for x in range(10))\n",
    "\n",
    "print(\"Double :\", next(double))\n",
    "print(\"Double :\", next(double))\n",
    "\n",
    "for num in double:\n",
    "    print(num)"
   ]
  },
  {
   "cell_type": "markdown",
   "metadata": {},
   "source": [
    "<h2 align=center>Threads</h2>"
   ]
  },
  {
   "cell_type": "code",
   "execution_count": 137,
   "metadata": {},
   "outputs": [],
   "source": [
    "# Threads are like running multiple programs at once\n",
    "# Threads take turns executing\n",
    "# "
   ]
  },
  {
   "cell_type": "code",
   "execution_count": 138,
   "metadata": {},
   "outputs": [],
   "source": [
    "import threading\n",
    "import time\n",
    "import random"
   ]
  },
  {
   "cell_type": "code",
   "execution_count": 146,
   "metadata": {},
   "outputs": [],
   "source": [
    "def executeThread(i):\n",
    "    print(\"Thread {} sleeps at {}\".format(i, \n",
    "                                          time.strftime('%H:%M:%S', time.gmtime())))\n",
    "    randSleepTime = random.randint(1, 5)\n",
    "    \n",
    "    time.sleep(randSleepTime)\n",
    "    \n",
    "    time.sleep(randSleepTime)\n",
    "    \n",
    "    print(\"Thread {} stops sleeping at {}\".format(i,\n",
    "                                                  time.strftime('%H:%M:%S', \n",
    "                                                                time.gmtime())))"
   ]
  },
  {
   "cell_type": "code",
   "execution_count": 147,
   "metadata": {},
   "outputs": [
    {
     "name": "stdout",
     "output_type": "stream",
     "text": [
      "Thread 0 sleeps at 20:33:15\n",
      "Active Threads : 6\n",
      "Thread Objects : [<_MainThread(MainThread, started 16904)>, <Thread(Thread-4, started daemon 26056)>, <Heartbeat(Thread-5, started daemon 13684)>, <HistorySavingThread(IPythonHistorySavingThread, started 11056)>, <ParentPollerWindows(Thread-3, started daemon 18304)>, <Thread(Thread-36, started 15620)>]\n",
      "Thread 1 sleeps at 20:33:15\n",
      "Active Threads : 7\n",
      "Thread Objects : [<_MainThread(MainThread, started 16904)>, <Thread(Thread-4, started daemon 26056)>, <Heartbeat(Thread-5, started daemon 13684)>, <HistorySavingThread(IPythonHistorySavingThread, started 11056)>, <ParentPollerWindows(Thread-3, started daemon 18304)>, <Thread(Thread-36, started 15620)>, <Thread(Thread-37, started 14332)>]\n",
      "Thread 2 sleeps at 20:33:15\n",
      "Active Threads : 8\n",
      "Thread Objects : [<_MainThread(MainThread, started 16904)>, <Thread(Thread-4, started daemon 26056)>, <Heartbeat(Thread-5, started daemon 13684)>, <HistorySavingThread(IPythonHistorySavingThread, started 11056)>, <ParentPollerWindows(Thread-3, started daemon 18304)>, <Thread(Thread-36, started 15620)>, <Thread(Thread-37, started 14332)>, <Thread(Thread-38, started 8868)>]\n",
      "Thread 3 sleeps at 20:33:15Active Threads : 9\n",
      "\n",
      "Thread Objects : [<_MainThread(MainThread, started 16904)>, <Thread(Thread-4, started daemon 26056)>, <Heartbeat(Thread-5, started daemon 13684)>, <HistorySavingThread(IPythonHistorySavingThread, started 11056)>, <ParentPollerWindows(Thread-3, started daemon 18304)>, <Thread(Thread-36, started 15620)>, <Thread(Thread-37, started 14332)>, <Thread(Thread-38, started 8868)>, <Thread(Thread-39, started 3608)>]\n",
      "Thread 4 sleeps at 20:33:15\n",
      "Active Threads : 10\n",
      "Thread Objects : [<_MainThread(MainThread, started 16904)>, <Thread(Thread-4, started daemon 26056)>, <Heartbeat(Thread-5, started daemon 13684)>, <HistorySavingThread(IPythonHistorySavingThread, started 11056)>, <ParentPollerWindows(Thread-3, started daemon 18304)>, <Thread(Thread-36, started 15620)>, <Thread(Thread-37, started 14332)>, <Thread(Thread-38, started 8868)>, <Thread(Thread-39, started 3608)>, <Thread(Thread-40, started 16540)>]\n",
      "Thread 5 sleeps at 20:33:15Active Threads : 11\n",
      "Thread Objects : [<_MainThread(MainThread, started 16904)>, <Thread(Thread-4, started daemon 26056)>, <Heartbeat(Thread-5, started daemon 13684)>, <HistorySavingThread(IPythonHistorySavingThread, started 11056)>, <ParentPollerWindows(Thread-3, started daemon 18304)>, <Thread(Thread-36, started 15620)>, <Thread(Thread-37, started 14332)>, <Thread(Thread-38, started 8868)>, <Thread(Thread-39, started 3608)>, <Thread(Thread-40, started 16540)>, <Thread(Thread-41, started 10776)>]\n",
      "\n",
      "Thread 6 sleeps at 20:33:15\n",
      "Active Threads : 12\n",
      "Thread Objects : [<_MainThread(MainThread, started 16904)>, <Thread(Thread-4, started daemon 26056)>, <Heartbeat(Thread-5, started daemon 13684)>, <HistorySavingThread(IPythonHistorySavingThread, started 11056)>, <ParentPollerWindows(Thread-3, started daemon 18304)>, <Thread(Thread-36, started 15620)>, <Thread(Thread-37, started 14332)>, <Thread(Thread-38, started 8868)>, <Thread(Thread-39, started 3608)>, <Thread(Thread-40, started 16540)>, <Thread(Thread-41, started 10776)>, <Thread(Thread-42, started 26700)>]\n",
      "Thread 7 sleeps at 20:33:15Active Threads : 13\n",
      "Thread Objects : [<_MainThread(MainThread, started 16904)>, <Thread(Thread-4, started daemon 26056)>, <Heartbeat(Thread-5, started daemon 13684)>, <HistorySavingThread(IPythonHistorySavingThread, started 11056)>, <ParentPollerWindows(Thread-3, started daemon 18304)>, <Thread(Thread-36, started 15620)>, <Thread(Thread-37, started 14332)>, <Thread(Thread-38, started 8868)>, <Thread(Thread-39, started 3608)>, <Thread(Thread-40, started 16540)>, <Thread(Thread-41, started 10776)>, <Thread(Thread-42, started 26700)>, <Thread(Thread-43, started 17100)>]\n",
      "\n",
      "Thread 8 sleeps at 20:33:15Active Threads : 14\n",
      "\n",
      "Thread Objects : [<_MainThread(MainThread, started 16904)>, <Thread(Thread-4, started daemon 26056)>, <Heartbeat(Thread-5, started daemon 13684)>, <HistorySavingThread(IPythonHistorySavingThread, started 11056)>, <ParentPollerWindows(Thread-3, started daemon 18304)>, <Thread(Thread-36, started 15620)>, <Thread(Thread-37, started 14332)>, <Thread(Thread-38, started 8868)>, <Thread(Thread-39, started 3608)>, <Thread(Thread-40, started 16540)>, <Thread(Thread-41, started 10776)>, <Thread(Thread-42, started 26700)>, <Thread(Thread-43, started 17100)>, <Thread(Thread-44, started 17712)>]\n",
      "Thread 9 sleeps at 20:33:15Active Threads : 15\n",
      "Thread Objects : [<_MainThread(MainThread, started 16904)>, <Thread(Thread-4, started daemon 26056)>, <Heartbeat(Thread-5, started daemon 13684)>, <HistorySavingThread(IPythonHistorySavingThread, started 11056)>, <ParentPollerWindows(Thread-3, started daemon 18304)>, <Thread(Thread-36, started 15620)>, <Thread(Thread-37, started 14332)>, <Thread(Thread-38, started 8868)>, <Thread(Thread-39, started 3608)>, <Thread(Thread-40, started 16540)>, <Thread(Thread-41, started 10776)>, <Thread(Thread-42, started 26700)>, <Thread(Thread-43, started 17100)>, <Thread(Thread-44, started 17712)>, <Thread(Thread-45, started 15652)>]\n",
      "\n",
      "Thread 1 stops sleeping at 20:33:17\n",
      "Thread 5 stops sleeping at 20:33:17\n",
      "Thread 3 stops sleeping at 20:33:19\n",
      "Thread 8 stops sleeping at 20:33:19\n",
      "Thread 2 stops sleeping at 20:33:21\n",
      "Thread 0 stops sleeping at 20:33:23\n",
      "Thread 9 stops sleeping at 20:33:23\n",
      "Thread 4 stops sleeping at 20:33:25\n",
      "Thread 6 stops sleeping at 20:33:25\n",
      "Thread 7 stops sleeping at 20:33:25\n"
     ]
    }
   ],
   "source": [
    "for i in range(10):\n",
    "    thread = threading.Thread(target=executeThread, args=(i, ))\n",
    "    thread.start()\n",
    "    \n",
    "    print(\"Active Threads :\", threading.activeCount())\n",
    "    \n",
    "    print(\"Thread Objects :\", threading.enumerate())"
   ]
  },
  {
   "cell_type": "code",
   "execution_count": 151,
   "metadata": {},
   "outputs": [
    {
     "name": "stdout",
     "output_type": "stream",
     "text": [
      "Thread 1 sleeps at 20:58:21\n",
      "Thread 2 sleeps at 20:58:21Thread 1 Alive : True\n",
      "Thread 2 Alive : \n",
      "True\n",
      "Thread 1 Name : 1\n",
      "Thread 2 Name : 2\n",
      "Thread 2 Execution Ends\n",
      "Thread 1 Execution Ends\n",
      "Execution Ends\n"
     ]
    }
   ],
   "source": [
    "# Sub Class a Thread\n",
    "\n",
    "class CustThread(threading.Thread):\n",
    "    def __init__(self, name):\n",
    "        threading.Thread.__init__(self)\n",
    "        \n",
    "        self.name = name\n",
    "        \n",
    "    def run(self):\n",
    "        getTime(self.name)\n",
    "        \n",
    "        print(\"Thread\", self.name, \"Execution Ends\")\n",
    "        \n",
    "def getTime(name):\n",
    "    print(\"Thread {} sleeps at {}\".format(name,\n",
    "                                         time.strftime(\"%H:%M:%S\", time.gmtime())))\n",
    "    \n",
    "    randSleepTime = random.randint(1, 5)\n",
    "    \n",
    "    time.sleep(randSleepTime)\n",
    "    \n",
    "thread1 = CustThread(\"1\")\n",
    "thread2 = CustThread(\"2\")\n",
    "\n",
    "thread1.start()\n",
    "thread2.start()\n",
    "\n",
    "print(\"Thread 1 Alive :\", thread1.is_alive())\n",
    "print(\"Thread 2 Alive :\", thread2.is_alive())\n",
    "\n",
    "print(\"Thread 1 Name :\", thread1.getName())\n",
    "print(\"Thread 2 Name :\", thread2.getName())\n",
    "\n",
    "thread1.join()\n",
    "thread2.join()\n",
    "\n",
    "print(\"Execution Ends\")"
   ]
  },
  {
   "cell_type": "code",
   "execution_count": 1,
   "metadata": {},
   "outputs": [
    {
     "name": "stdout",
     "output_type": "stream",
     "text": [
      "Doug tries to wihdrawl $1 at 21:34:38\n",
      "New Account Balance : $99\n",
      "Paul tries to wihdrawl $100 at 21:34:41\n",
      "Not enough money in account\n",
      "Current balance : $99\n",
      "Sally tries to wihdrawl $50 at 21:34:44\n",
      "New Account Balance : $49\n",
      "Execution Ended\n"
     ]
    }
   ],
   "source": [
    "import threading\n",
    "import time\n",
    "import random\n",
    "\n",
    "class BankAccount(threading.Thread):\n",
    "    \n",
    "    acctBalance = 100\n",
    "    \n",
    "    def __init__(self, name, moneyRequest):\n",
    "        threading.Thread.__init__(self)\n",
    "        \n",
    "        self.name = name\n",
    "        self.moneyRequest = moneyRequest\n",
    "        \n",
    "    def run(self):\n",
    "        threadLock.acquire()\n",
    "        \n",
    "        BankAccount.getMoney(self)\n",
    "        \n",
    "        threadLock.release()\n",
    "        \n",
    "    @staticmethod\n",
    "    def getMoney(customer):\n",
    "        print(\"{} tries to wihdrawl ${} at {}\".format(customer.name,\n",
    "                                                     customer.moneyRequest,\n",
    "                                                     time.strftime(\"%H:%M:%S\", time.gmtime())))\n",
    "        \n",
    "        if BankAccount.acctBalance - customer.moneyRequest > 0:\n",
    "            BankAccount.acctBalance -= customer.moneyRequest\n",
    "            print(\"New Account Balance : ${}\".format(BankAccount.acctBalance))\n",
    "        else:\n",
    "            print(\"Not enough money in account\")\n",
    "            print(\"Current balance : ${}\".format(BankAccount.acctBalance))\n",
    "            \n",
    "        time.sleep(3)\n",
    "        \n",
    "threadLock = threading.Lock()\n",
    "\n",
    "doug = BankAccount(\"Doug\", 1)\n",
    "paul = BankAccount(\"Paul\", 100)\n",
    "sally = BankAccount(\"Sally\", 50)\n",
    "\n",
    "doug.start()\n",
    "paul.start()\n",
    "sally.start()\n",
    "\n",
    "doug.join()\n",
    "paul.join()\n",
    "sally.join()\n",
    "\n",
    "print(\"Execution Ended\")"
   ]
  },
  {
   "cell_type": "code",
   "execution_count": null,
   "metadata": {},
   "outputs": [],
   "source": []
  }
 ],
 "metadata": {
  "kernelspec": {
   "display_name": "Python 3",
   "language": "python",
   "name": "python3"
  },
  "language_info": {
   "codemirror_mode": {
    "name": "ipython",
    "version": 3
   },
   "file_extension": ".py",
   "mimetype": "text/x-python",
   "name": "python",
   "nbconvert_exporter": "python",
   "pygments_lexer": "ipython3",
   "version": "3.6.4"
  }
 },
 "nbformat": 4,
 "nbformat_minor": 2
}
